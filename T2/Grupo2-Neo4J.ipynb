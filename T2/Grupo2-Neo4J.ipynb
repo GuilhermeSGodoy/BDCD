{
 "cells": [
  {
   "attachments": {},
   "cell_type": "markdown",
   "metadata": {},
   "source": [
    "## Grupo 2 - Neo4J\n",
    "\n",
    "Este trabalho consiste em implementar o esboço de um sistema de recomendação entre produtos de um e-commerce. Os blocos a seguir apresentam os códigos que devem ser inseridos no terminal do Neo4J para visualização dos resultados."
   ]
  },
  {
   "attachments": {},
   "cell_type": "markdown",
   "metadata": {},
   "source": [
    "### Inserção de produtos\n",
    "\n",
    "Utilizamos um arquivo .csv para inserir os dados da nossa base de dados, com mais de 10000 entradas."
   ]
  },
  {
   "cell_type": "code",
   "execution_count": null,
   "metadata": {},
   "outputs": [],
   "source": [
    "LOAD CSV WITH HEADERS FROM 'https://raw.githubusercontent.com/GuilhermeSGodoy/BDCD/main/Tabelas/myntra_products_catalog.csv' AS row\n",
    "CREATE (p:Product {id: toInteger(row.ProductID), nome: row.ProductName, brand: row.ProducBrand, description: row.Description, price: row.Price, color: row.PrimaryColor, gender: row.Gender });"
   ]
  },
  {
   "attachments": {},
   "cell_type": "markdown",
   "metadata": {},
   "source": [
    "### Inserção de apenas 50 produtos (Recomendado)\n",
    "\n",
    "Por fins de simplificação e economia de recursos, optamos por criar uma versão resumida da nossa base com 50 entradas, de modo que é a que utilizamos para manipular os testes que fizemos."
   ]
  },
  {
   "cell_type": "code",
   "execution_count": null,
   "metadata": {},
   "outputs": [],
   "source": [
    "LOAD CSV WITH HEADERS FROM 'https://raw.githubusercontent.com/GuilhermeSGodoy/BDCD/main/Tabelas/myntra_products_catalog-limit.csv' AS row\n",
    "CREATE (p:Product {id: toInteger(row.ProductID), nome: row.ProductName, brand: row.ProducBrand, description: row.Description, price: row.Price, color: row.PrimaryColor, gender: row.Gender });"
   ]
  },
  {
   "attachments": {},
   "cell_type": "markdown",
   "metadata": {},
   "source": [
    "### Inserção de clientes\n",
    "\n",
    "Criamos, também, uma lista com 100 clientes gerados aleatoriamente."
   ]
  },
  {
   "cell_type": "code",
   "execution_count": null,
   "metadata": {},
   "outputs": [],
   "source": [
    "LOAD CSV WITH HEADERS FROM 'https://raw.githubusercontent.com/GuilhermeSGodoy/BDCD/main/Tabelas/clientes.csv' AS row2\n",
    "CREATE (c:Cliente {id: toInteger(row2.CPF), nome: row2.Nome, endereco: row2.Endereco, metodoPagamento: row2.MetodoPagamento, email: row2.Email, senha: row2.Senha, funcao: row2.Funcao });"
   ]
  },
  {
   "attachments": {},
   "cell_type": "markdown",
   "metadata": {},
   "source": [
    "### Criação do índice de proximidade entre produtos\n",
    "\n",
    "A princípio, criamos um índice de proximidade entre os produtos da nossa base. A ideia é que cada produto tenha um valor (aqui gerado aleatoriamente, variando de 0 a 1) que o relacione com todos os outros produtos da base. NOTA: a visualização do Neo4J apresenta setas direcionadas entre um produto e outro, mas a relação gerada deve ser considerada como o índice entre os dois produtos indepedente de sua direção."
   ]
  },
  {
   "cell_type": "code",
   "execution_count": null,
   "metadata": {},
   "outputs": [],
   "source": [
    "MATCH (p1:Product), (p2:Product)\n",
    "WHERE id(p1) < id(p2)\n",
    "WITH p1, p2, rand() as indice\n",
    "MERGE (p1)-[proximidade:PROXIMIDADE]->(p2)\n",
    "ON CREATE SET proximidade.indice = indice\n",
    "RETURN * LIMIT 10"
   ]
  },
  {
   "attachments": {},
   "cell_type": "markdown",
   "metadata": {},
   "source": [
    "### Um cliente aleatório compra três produtos aleatórios\n",
    "\n",
    "Para exemplificar, criamos uma consulta que pega um cliente aleatório da nossa base e três produtos, também aleatórios, gerando uma relação de compra entre eles."
   ]
  },
  {
   "cell_type": "code",
   "execution_count": null,
   "metadata": {},
   "outputs": [],
   "source": [
    "MATCH (c:Cliente)\n",
    "WHERE NOT (c)-[:COMPRA]->()\n",
    "WITH c\n",
    "LIMIT 1\n",
    "MATCH (p:Product)\n",
    "WITH c, p, rand() as r\n",
    "ORDER BY r\n",
    "LIMIT 3\n",
    "MERGE (c)-[:COMPRA]->(p)\n",
    "WITH c\n",
    "MATCH (c)-[:COMPRA]->(p)\n",
    "RETURN *"
   ]
  },
  {
   "attachments": {},
   "cell_type": "markdown",
   "metadata": {},
   "source": [
    "### Seleção de um produto aleatório e os cinco produtos com maior proximidade\n",
    "\n",
    "Seguindo a lógica anterior, criamos uma consulta que seleciona um produto aleatório e apresenta os cinco primeiros produtos com maior proximidade com ele. NOTA: na visualização do Neo4J, o produto aleatório selecionado fica na parte inferior do grafo, e os outros produtos são dispostos usando o índice de maneira decrescente da direita para a esquerda."
   ]
  },
  {
   "cell_type": "code",
   "execution_count": null,
   "metadata": {},
   "outputs": [],
   "source": [
    "MATCH (p1:Product)\n",
    "WITH p1, rand() as r\n",
    "ORDER BY r\n",
    "LIMIT 1\n",
    "MATCH (p1)-[prox:PROXIMIDADE]->(p2:Product)\n",
    "WITH p1, p2, prox.indice as indice\n",
    "ORDER BY indice DESC\n",
    "LIMIT 5\n",
    "RETURN p1, COLLECT({product: p2, indice: indice}) as proximos_produtos"
   ]
  }
 ],
 "metadata": {
  "language_info": {
   "name": "python"
  },
  "orig_nbformat": 4
 },
 "nbformat": 4,
 "nbformat_minor": 2
}
